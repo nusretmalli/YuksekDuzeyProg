//Kütüphaneleri ekliyoruz
import numpy
from keras.datasets import mnist
from keras.models import Sequential
from keras.layers import Conv2D
from keras.layers import Flatten
from keras.layers import MaxPooling2D
from keras.layers import Dropout
from keras.layers import Dense
from keras.utils import np_utils


seed = 5
numpy.random.seed(seed)

(X_train, Y_train), (X_test, Y_test) = mnist.load_data()
X_train = numpy.reshape(X_train,(60000,28, 28, 1))

X_test = numpy.reshape(X_train,(60000,28, 28, 1))

print(X_train.shape)

X_train = X_train.astype('float32')
X_test = X_test.astype('float32')
X_train = X_train / 255.0
X_test = X_test / 255.0

Y_train = np_utils.to_categorical(Y_train)
Y_test = np_utils.to_categorical(Y_test)
num_classes = Y_test.shape[1]

//MODELI BURADA OLUŞTURUYORUZ
model = Sequential()
model.add(Conv2D(32, (3,3), input_shape = (28,28,1), activation = 'relu'))
model.add(MaxPooling2D(pool_size = (2,2)))
model.add(Dropout(0.2))
model.add(Flatten())
model.add(Dense(64,activation = 'relu'))
model.add(Dense(num_classes, activation = 'sigmoid'))

model.compile(loss = 'categorical_crossentropy', optimizer = 'adam', metrics =['accuracy'])
model.summary()


model.fit(X_train, Y_train, epochs = 10, verbose = 1)

model.save('MNIST.h5')
     

from keras.models import load_model
test_model = load_model('MNIST.h5')
     

prediction = test_model.predict(X_test)
     

list(prediction[0]).index(max(prediction[0]))

for i in range(prediction.size):
  print(list(prediction[i]).index(max(prediction[i])))


































model.save('MNIST.h5')
     

from keras.models import load_model
test_model = load_model('MNIST.h5')
     

prediction = test_model.predict(X_test)
     

list(prediction[0]).index(max(prediction[0]))
